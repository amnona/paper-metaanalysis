{
 "cells": [
  {
   "cell_type": "code",
   "execution_count": 1,
   "metadata": {},
   "outputs": [
    {
     "name": "stderr",
     "output_type": "stream",
     "text": [
      "/home/amnon/miniconda3/envs/calour/lib/python3.6/site-packages/statsmodels/tools/_testing.py:19: FutureWarning: pandas.util.testing is deprecated. Use the functions in the public API at pandas.testing instead.\n",
      "  import pandas.util.testing as tm\n"
     ]
    },
    {
     "name": "stdout",
     "output_type": "stream",
     "text": [
      "failed to load logging config file\n"
     ]
    }
   ],
   "source": [
    "import calour as ca\n",
    "import calour_utils as cu"
   ]
  },
  {
   "cell_type": "code",
   "execution_count": 2,
   "metadata": {},
   "outputs": [],
   "source": [
    "import numpy as np\n",
    "import scipy as sp\n",
    "import matplotlib as mpl\n",
    "import matplotlib.pyplot as plt\n",
    "import glob\n",
    "import os\n",
    "import pandas as pd\n",
    "import shutil\n",
    "import matplotlib.colors\n",
    "import skbio as skbio\n",
    "import glob"
   ]
  },
  {
   "cell_type": "code",
   "execution_count": 3,
   "metadata": {},
   "outputs": [],
   "source": [
    "ca.set_log_level('INFO')"
   ]
  },
  {
   "cell_type": "code",
   "execution_count": 4,
   "metadata": {},
   "outputs": [],
   "source": [
    "%matplotlib inline"
   ]
  },
  {
   "cell_type": "code",
   "execution_count": 5,
   "metadata": {},
   "outputs": [
    {
     "data": {
      "text/plain": [
       "'/home/amnon/paper-metaanalysis-main/scripts'"
      ]
     },
     "execution_count": 5,
     "metadata": {},
     "output_type": "execute_result"
    }
   ],
   "source": [
    "pwd"
   ]
  },
  {
   "cell_type": "code",
   "execution_count": null,
   "metadata": {},
   "outputs": [],
   "source": []
  },
  {
   "cell_type": "code",
   "execution_count": 6,
   "metadata": {},
   "outputs": [
    {
     "name": "stdout",
     "output_type": "stream",
     "text": [
      "2022-01-06 08:39:18 INFO loaded 174 samples, 3295 features\n",
      "2022-01-06 08:39:18 WARNING These have metadata but do not have data - dropped (2): {'SRR1687461', 'SRR1689253'}\n",
      "2022-01-06 08:39:18 WARNING Do you forget to normalize your data? It is required before running this function\n",
      "2022-01-06 08:39:18 INFO After filtering, 174 remain.\n"
     ]
    }
   ],
   "source": [
    "testzz = ca.read_amplicon('../studies/10/all.biom','../studies/10/up.map.csv',min_reads=1000,normalize=10000, sparse=False)"
   ]
  },
  {
   "cell_type": "markdown",
   "metadata": {},
   "source": [
    "# Load the nonspecific up/down feature list"
   ]
  },
  {
   "cell_type": "code",
   "execution_count": 36,
   "metadata": {},
   "outputs": [
    {
     "data": {
      "text/plain": [
       "down    97\n",
       "up      31\n",
       "Name: dir, dtype: int64"
      ]
     },
     "execution_count": 36,
     "metadata": {},
     "output_type": "execute_result"
    }
   ],
   "source": [
    "nsd = pd.read_csv('../ratios/nonspecific/nonspecific-down_feature.txt',sep='\\t',index_col=0)\n",
    "nsd['dir'] = 'down'\n",
    "nsu = pd.read_csv('../ratios/nonspecific/nonspecific-up_feature.txt',sep='\\t',index_col=0)\n",
    "nsu['dir'] = 'up'\n",
    "ns = nsd.merge(nsu,how='outer')\n",
    "ns['dir'].value_counts()"
   ]
  },
  {
   "cell_type": "markdown",
   "metadata": {},
   "source": [
    "# Calculate dysbiosis index for a study directory"
   ]
  },
  {
   "cell_type": "code",
   "execution_count": 37,
   "metadata": {},
   "outputs": [],
   "source": [
    "def dbi_binary(exp, nsf, thresh=0, outfile=None):\n",
    "    '''Binary index:\n",
    "    Parameters\n",
    "    ----------\n",
    "    exp: calour.Experiment\n",
    "        Witht the samples to calculate the index\n",
    "    nsf: pd.DataFrame\n",
    "        with feature sequence as index, dir='up'/'down'\n",
    "    \n",
    "    Returns\n",
    "    -------\n",
    "    pd.DataFrane\n",
    "        sample_id as index\n",
    "        'score': dbi score\n",
    "    '''\n",
    "    res={}\n",
    "    ca.set_log_level('ERROR')\n",
    "    upf = nsf[nsf['dir']=='up']['_feature_id'].values\n",
    "    downf = nsf[nsf['dir']=='down']['_feature_id'].values\n",
    "    exp = exp.filter_ids(nsf._feature_id.values)\n",
    "    exp.sparse = False\n",
    "    exp.data = (exp.data > thresh)\n",
    "    for cid, cexp in exp.iterate():\n",
    "        tt = cexp.filter_ids(upf)\n",
    "        nup = tt.data.sum(axis=1)[0]\n",
    "        tt = cexp.filter_ids(downf)\n",
    "        ndown = tt.data.sum(axis=1)[0]\n",
    "        dbi =  np.log2((nup+0.1) / (ndown+0.1))\n",
    "        res[cid] = dbi\n",
    "    df=pd.DataFrame(res.items(), columns=['SampleID','Dysbiosis_index'])\n",
    "    df=df.set_index('SampleID')\n",
    "    if outfile is not None:\n",
    "        df.to_csv(outfile, sep='\\t')\n",
    "    return df"
   ]
  },
  {
   "cell_type": "code",
   "execution_count": 38,
   "metadata": {},
   "outputs": [],
   "source": [
    "def dbi_freqs(exp, nsf, thresh=0, outfile=None):\n",
    "    '''Binary index:\n",
    "    Parameters\n",
    "    ----------\n",
    "    exp: calour.Experiment\n",
    "        Witht the samples to calculate the index\n",
    "    nsf: pd.DataFrame\n",
    "        with feature sequence as index, dir='up'/'down'\n",
    "    \n",
    "    Returns\n",
    "    -------\n",
    "    pd.DataFrane\n",
    "        sample_id as index\n",
    "        'score': dbi score\n",
    "    '''\n",
    "    res={}\n",
    "    ca.set_log_level('ERROR')\n",
    "    upf = nsf[nsf['dir']=='up']['_feature_id'].values\n",
    "    downf = nsf[nsf['dir']=='down']['_feature_id'].values\n",
    "    exp = exp.filter_ids(nsf._feature_id.values)\n",
    "    exp.sparse = False\n",
    "#     exp.data = (exp.data > thresh)\n",
    "    for cid, cexp in exp.iterate():\n",
    "        tt = cexp.filter_ids(upf)\n",
    "        nup = tt.data.sum(axis=1)[0]\n",
    "        tt = cexp.filter_ids(downf)\n",
    "        ndown = tt.data.sum(axis=1)[0]\n",
    "        dbi =  np.log2((nup+0.1) / (ndown+0.1))\n",
    "        res[cid] = dbi\n",
    "    df=pd.DataFrame(res.items(), columns=['SampleID','Dysbiosis_index'])\n",
    "    df=df.set_index('SampleID')\n",
    "    if outfile is not None:\n",
    "        df.to_csv(outfile, sep='\\t')\n",
    "    return df"
   ]
  },
  {
   "cell_type": "code",
   "execution_count": 39,
   "metadata": {},
   "outputs": [],
   "source": [
    "def dbi_ranks(exp, nsf, thresh = 0, outfile = None):\n",
    "    '''Ranked index: \n",
    "    Parameters\n",
    "    ----------\n",
    "    exp: calour.Experiment\n",
    "        Witht the samples to calculate the index\n",
    "    nsf: pd.DataFrame\n",
    "        with feature sequence as index, dir='up'/'down'\n",
    "    \n",
    "    Returns\n",
    "    -------\n",
    "    pd.DataFrane\n",
    "        sample_id as index\n",
    "        'score': dbi score\n",
    "    '''\n",
    "    df = dbi_binary(exp, nsf)\n",
    "    exp.sparse = False\n",
    "    zzz=exp.copy()\n",
    "    zzz.data = sp.stats.rankdata(zzz.data, axis=0)\n",
    "    df_rank=dbi_freqs(zzz,ns,outfile='dysbiosis_index_ranks_1s.txt')\n",
    "    if outfile is not None:\n",
    "            df.to_csv(outfile, sep='\\t')\n",
    "    return df\n",
    "  "
   ]
  },
  {
   "cell_type": "code",
   "execution_count": 40,
   "metadata": {},
   "outputs": [],
   "source": [
    "df=dbi_binary(testzz,ns,outfile='../dysbiosis_index/testbinary.txt')"
   ]
  },
  {
   "cell_type": "code",
   "execution_count": 41,
   "metadata": {},
   "outputs": [],
   "source": [
    "df=dbi_freqs(testzz,ns,outfile='../dysbiosis_index/testfeqs.txt')"
   ]
  },
  {
   "cell_type": "code",
   "execution_count": 42,
   "metadata": {},
   "outputs": [],
   "source": [
    "df=dbi_ranks(testzz,ns,outfile='../dysbiosis_index/testranks.txt')"
   ]
  },
  {
   "cell_type": "code",
   "execution_count": 43,
   "metadata": {},
   "outputs": [
    {
     "name": "stdout",
     "output_type": "stream",
     "text": [
      "../studies/37\n",
      "../studies/56\n",
      "../studies/34\n",
      "../studies/36\n",
      "../studies/13\n",
      "../studies/9\n",
      "../studies/47\n",
      "../studies/8\n",
      "../studies/32\n",
      "../studies/40\n",
      "../studies/50\n",
      "../studies/31\n",
      "../studies/25\n",
      "../studies/27\n",
      "../studies/55\n",
      "../studies/43\n",
      "../studies/57\n",
      "../studies/54\n",
      "../studies/7\n",
      "../studies/12\n",
      "../studies/48\n",
      "../studies/index.csv\n",
      "bad id ../studies/index.csv\n",
      "../studies/59\n",
      "../studies/39\n",
      "../studies/62\n",
      "../studies/20\n",
      "../studies/49\n",
      "../studies/17\n",
      "../studies/41\n",
      "../studies/4\n",
      "../studies/2\n",
      "../studies/10\n",
      "../studies/1\n",
      "../studies/28\n",
      "../studies/14\n",
      "../studies/6\n",
      "../studies/24\n",
      "../studies/52\n",
      "../studies/51\n",
      "../studies/18\n",
      "../studies/33\n",
      "../studies/60\n",
      "../studies/15\n",
      "../studies/58\n",
      "../studies/44\n",
      "../studies/22\n",
      "../studies/5\n",
      "../studies/11\n",
      "../studies/3\n",
      "../studies/26\n",
      "../studies/16\n",
      "../studies/42\n",
      "../studies/21\n",
      "../studies/19\n",
      "../studies/61\n",
      "../studies/29\n",
      "../studies/53\n",
      "../studies/23\n",
      "../studies/46\n",
      "../studies/45\n"
     ]
    }
   ],
   "source": [
    "for csid in glob.glob('../studies/*'):\n",
    "    print(csid)\n",
    "    try:\n",
    "        csnum = csid.split('/')[-1]\n",
    "        zz = ca.read_amplicon(csid+'/all.biom',csid+'/up.map.csv',min_reads=1000,normalize=10000,sparse=False)\n",
    "        df=dbi_binary(zz,ns,outfile='../dysbiosis_index/binary/%s.txt' % csnum)\n",
    "        df=dbi_freqs(zz,ns,outfile='../dysbiosis_index/freqs/%s.txt' % csnum)\n",
    "        df=dbi_ranks(zzz,ns,outfile='../dysbiosis_index/ranks/%s.txt' % csnum)\n",
    "    except:\n",
    "        print('bad id %s' % csid)"
   ]
  },
  {
   "cell_type": "markdown",
   "metadata": {},
   "source": [
    "## Also for per-sample ranked data"
   ]
  },
  {
   "cell_type": "code",
   "execution_count": 44,
   "metadata": {},
   "outputs": [
    {
     "name": "stdout",
     "output_type": "stream",
     "text": [
      "../studies/37\n",
      "../studies/56\n",
      "../studies/34\n",
      "../studies/36\n",
      "../studies/13\n",
      "../studies/9\n",
      "../studies/47\n",
      "../studies/8\n",
      "../studies/32\n",
      "../studies/40\n",
      "../studies/50\n",
      "../studies/31\n",
      "../studies/25\n",
      "../studies/27\n",
      "../studies/55\n",
      "../studies/43\n",
      "../studies/57\n",
      "../studies/54\n",
      "../studies/7\n",
      "../studies/12\n",
      "../studies/48\n",
      "../studies/index.csv\n",
      "bad id ../studies/index.csv\n",
      "../studies/59\n",
      "../studies/39\n",
      "../studies/62\n",
      "../studies/20\n",
      "../studies/49\n",
      "../studies/17\n",
      "../studies/41\n",
      "../studies/4\n",
      "../studies/2\n",
      "../studies/10\n",
      "../studies/1\n",
      "../studies/28\n",
      "../studies/14\n",
      "../studies/6\n",
      "../studies/24\n",
      "../studies/52\n",
      "../studies/51\n",
      "../studies/18\n",
      "../studies/33\n",
      "../studies/60\n",
      "../studies/15\n",
      "../studies/58\n",
      "../studies/44\n",
      "../studies/22\n",
      "../studies/5\n",
      "../studies/11\n",
      "../studies/3\n",
      "../studies/26\n",
      "../studies/16\n",
      "../studies/42\n",
      "../studies/21\n",
      "../studies/19\n",
      "../studies/61\n",
      "../studies/29\n",
      "../studies/53\n",
      "../studies/23\n",
      "../studies/46\n",
      "../studies/45\n"
     ]
    }
   ],
   "source": [
    "for csid in glob.glob('../studies/*'):\n",
    "    print(csid)\n",
    "    try:\n",
    "        csnum = csid.split('/')[-1]\n",
    "        zz = ca.read_amplicon(csid+'/all.biom',csid+'/up.map.csv',min_reads=1000,normalize=10000,sparse=False)\n",
    "        zzz=zz.copy()\n",
    "        zzz.data = sp.stats.rankdata(zzz.data, axis=1)\n",
    "        df=dbi_freqs(zzz,ns,outfile='../dysbiosis_index/samplerank/%s.txt' % csnum)\n",
    "    except:\n",
    "        print('bad id %s' % csid)"
   ]
  },
  {
   "cell_type": "code",
   "execution_count": 45,
   "metadata": {},
   "outputs": [],
   "source": [
    "def test_res(studyid,filename, plotit=True):\n",
    "    sdir = '../studies/%s/' % str(studyid)\n",
    "    exp=ca.read_amplicon(sdir+'all.biom' ,sdir+'./up.map.csv', normalize=10000, min_reads=1000)\n",
    "    print('exp %s - %s' % (sdir, exp))\n",
    "    scores=pd.read_csv(filename, sep='\\t', index_col='SampleID')\n",
    "    hc = exp.filter_samples('type','HC')\n",
    "    hscore = scores.loc[hc.sample_metadata._sample_id.values].values\n",
    "    hscore = hscore[np.isnan(hscore)==False]\n",
    "    disease = exp.filter_samples('type','disease')\n",
    "    dscore = scores.loc[disease.sample_metadata._sample_id.values].values\n",
    "    dscore = dscore[np.isnan(dscore)==False]\n",
    "    if plotit:\n",
    "        plt.figure()\n",
    "        plt.title('Study %s' % studyid)\n",
    "        plt.plot(0.95+np.random.random(len(hscore))*0.1,hscore,'.b')\n",
    "        plt.plot(1.95+np.random.random(len(dscore))*0.1,dscore,'.r')\n",
    "        plt.violinplot([hscore, dscore])\n",
    "    print('Healthy median %f(mean %f). sick median %f (mean %f)' % (np.median(hscore), np.mean(hscore), np.median(dscore), np.mean(dscore)))\n",
    "    mw = sp.stats.mannwhitneyu(hscore,dscore,alternative='less')\n",
    "    print(mw)\n",
    "    return mw.pvalue"
   ]
  },
  {
   "cell_type": "code",
   "execution_count": 46,
   "metadata": {},
   "outputs": [
    {
     "name": "stdout",
     "output_type": "stream",
     "text": [
      "exp ../studies/40/ - AmpliconExperiment with 85 samples, 3917 features\n",
      "Healthy median -1.359814(mean -0.988711). sick median -0.187155 (mean -0.428187)\n",
      "MannwhitneyuResult(statistic=534.0, pvalue=0.006674429024533528)\n"
     ]
    },
    {
     "name": "stderr",
     "output_type": "stream",
     "text": [
      "/home/amnon/miniconda3/envs/calour/lib/python3.6/site-packages/numpy/core/_asarray.py:83: VisibleDeprecationWarning: Creating an ndarray from ragged nested sequences (which is a list-or-tuple of lists-or-tuples-or ndarrays with different lengths or shapes) is deprecated. If you meant to do this, you must specify 'dtype=object' when creating the ndarray\n",
      "  return array(a, dtype, copy=False, order=order)\n"
     ]
    },
    {
     "data": {
      "image/png": "[encoded data removed]",
      "text/plain": [
       "<Figure size 432x288 with 1 Axes>"
      ]
     },
     "metadata": {
      "needs_background": "light"
     },
     "output_type": "display_data"
    }
   ],
   "source": [
    "mw=test_res(40,'../dysbiosis_index/40_dysbiosis_index.txt')"
   ]
  },
  {
   "cell_type": "code",
   "execution_count": 47,
   "metadata": {},
   "outputs": [
    {
     "name": "stdout",
     "output_type": "stream",
     "text": [
      "exp ../studies/16/ - AmpliconExperiment with 119 samples, 2116 features\n"
     ]
    },
    {
     "name": "stderr",
     "output_type": "stream",
     "text": [
      "/home/amnon/miniconda3/envs/calour/lib/python3.6/site-packages/numpy/core/_asarray.py:83: VisibleDeprecationWarning: Creating an ndarray from ragged nested sequences (which is a list-or-tuple of lists-or-tuples-or ndarrays with different lengths or shapes) is deprecated. If you meant to do this, you must specify 'dtype=object' when creating the ndarray\n",
      "  return array(a, dtype, copy=False, order=order)\n"
     ]
    },
    {
     "name": "stdout",
     "output_type": "stream",
     "text": [
      "Healthy median -1.704015(mean -2.153148). sick median -2.265894 (mean -2.550233)\n",
      "MannwhitneyuResult(statistic=1939.5, pvalue=0.9786155132856728)\n"
     ]
    },
    {
     "data": {
      "image/png": "[encoded data removed]",
      "text/plain": [
       "<Figure size 432x288 with 1 Axes>"
      ]
     },
     "metadata": {
      "needs_background": "light"
     },
     "output_type": "display_data"
    }
   ],
   "source": [
    "mw=test_res(16,'../dysbiosis_index/binary/16.txt',)"
   ]
  },
  {
   "cell_type": "code",
   "execution_count": 48,
   "metadata": {},
   "outputs": [
    {
     "name": "stdout",
     "output_type": "stream",
     "text": [
      "exp ../studies/40/ - AmpliconExperiment with 85 samples, 3917 features\n",
      "Healthy median -2.157563(mean -2.149054). sick median -2.032722 (mean -2.006812)\n",
      "MannwhitneyuResult(statistic=624.0, pvalue=0.04110544746886762)\n"
     ]
    },
    {
     "name": "stderr",
     "output_type": "stream",
     "text": [
      "/home/amnon/miniconda3/envs/calour/lib/python3.6/site-packages/numpy/core/_asarray.py:83: VisibleDeprecationWarning: Creating an ndarray from ragged nested sequences (which is a list-or-tuple of lists-or-tuples-or ndarrays with different lengths or shapes) is deprecated. If you meant to do this, you must specify 'dtype=object' when creating the ndarray\n",
      "  return array(a, dtype, copy=False, order=order)\n"
     ]
    },
    {
     "data": {
      "image/png": "[encoded data removed]",
      "text/plain": [
       "<Figure size 432x288 with 1 Axes>"
      ]
     },
     "metadata": {
      "needs_background": "light"
     },
     "output_type": "display_data"
    }
   ],
   "source": [
    "mw=test_res(40,'../dysbiosis_index/samplerank/40.txt',)"
   ]
  },
  {
   "cell_type": "code",
   "execution_count": 49,
   "metadata": {},
   "outputs": [],
   "source": [
    "studies=pd.read_csv('../studies/index.csv',sep='\\t')"
   ]
  },
  {
   "cell_type": "code",
   "execution_count": 50,
   "metadata": {},
   "outputs": [
    {
     "name": "stdout",
     "output_type": "stream",
     "text": [
      "Alzheimer (17)\n",
      "tzipi\n",
      "exp ../studies/17/ - AmpliconExperiment with 50 samples, 2307 features\n",
      "Healthy median -1.858416(mean -1.864470). sick median -1.697781 (mean -1.772650)\n",
      "MannwhitneyuResult(statistic=255.0, pvalue=0.1343713862105385)\n",
      "binary\n",
      "exp ../studies/17/ - AmpliconExperiment with 50 samples, 2307 features\n",
      "Healthy median -2.411694(mean -2.404409). sick median -0.995513 (mean -1.244474)\n",
      "MannwhitneyuResult(statistic=140.0, pvalue=0.0004225101832644758)\n",
      "freq\n",
      "exp ../studies/17/ - AmpliconExperiment with 50 samples, 2307 features\n",
      "Healthy median -6.302661(mean -5.858335). sick median -4.574364 (mean -4.138208)\n",
      "MannwhitneyuResult(statistic=195.0, pvalue=0.011599743657534665)\n",
      "rank\n",
      "exp ../studies/17/ - AmpliconExperiment with 50 samples, 2307 features\n"
     ]
    },
    {
     "ename": "KeyError",
     "evalue": "\"None of [Index(['s021', 's002', 's049', 's040', 's044', 's014', 's006', 's024', 's026',\\n       's010', 's020', 's009', 's019', 's007', 's013', 's032', 's023', 's004',\\n       's001', 's015', 's025', 's037', 's012', 's022', 's027'],\\n      dtype='object', name='SampleID')] are in the [index]\"",
     "output_type": "error",
     "traceback": [
      "\u001b[0;31m---------------------------------------------------------------------------\u001b[0m",
      "\u001b[0;31mKeyError\u001b[0m                                  Traceback (most recent call last)",
      "\u001b[0;32m<ipython-input-50-16b8568eaebc>\u001b[0m in \u001b[0;36m<module>\u001b[0;34m()\u001b[0m\n\u001b[1;32m     18\u001b[0m     \u001b[0mdb_freqs\u001b[0m\u001b[0;34m[\u001b[0m\u001b[0mcsid\u001b[0m\u001b[0;34m]\u001b[0m\u001b[0;34m=\u001b[0m\u001b[0mmw\u001b[0m\u001b[0;34m\u001b[0m\u001b[0;34m\u001b[0m\u001b[0m\n\u001b[1;32m     19\u001b[0m     \u001b[0mprint\u001b[0m\u001b[0;34m(\u001b[0m\u001b[0;34m'rank'\u001b[0m\u001b[0;34m)\u001b[0m\u001b[0;34m\u001b[0m\u001b[0;34m\u001b[0m\u001b[0m\n\u001b[0;32m---> 20\u001b[0;31m     \u001b[0mmw\u001b[0m\u001b[0;34m=\u001b[0m\u001b[0mtest_res\u001b[0m\u001b[0;34m(\u001b[0m\u001b[0mcsid\u001b[0m\u001b[0;34m,\u001b[0m\u001b[0;34m'../dysbiosis_index/ranks/%s.txt'\u001b[0m \u001b[0;34m%\u001b[0m \u001b[0mcsid\u001b[0m\u001b[0;34m,\u001b[0m\u001b[0mplotit\u001b[0m\u001b[0;34m=\u001b[0m\u001b[0;32mFalse\u001b[0m\u001b[0;34m)\u001b[0m\u001b[0;34m\u001b[0m\u001b[0;34m\u001b[0m\u001b[0m\n\u001b[0m\u001b[1;32m     21\u001b[0m     \u001b[0mdb_ranks\u001b[0m\u001b[0;34m[\u001b[0m\u001b[0mcsid\u001b[0m\u001b[0;34m]\u001b[0m\u001b[0;34m=\u001b[0m\u001b[0mmw\u001b[0m\u001b[0;34m\u001b[0m\u001b[0;34m\u001b[0m\u001b[0m\n\u001b[1;32m     22\u001b[0m     \u001b[0mmw\u001b[0m\u001b[0;34m=\u001b[0m\u001b[0mtest_res\u001b[0m\u001b[0;34m(\u001b[0m\u001b[0mcsid\u001b[0m\u001b[0;34m,\u001b[0m\u001b[0;34m'../dysbiosis_index/samplerank/%s.txt'\u001b[0m \u001b[0;34m%\u001b[0m \u001b[0mcsid\u001b[0m\u001b[0;34m,\u001b[0m\u001b[0mplotit\u001b[0m\u001b[0;34m=\u001b[0m\u001b[0;32mFalse\u001b[0m\u001b[0;34m)\u001b[0m\u001b[0;34m\u001b[0m\u001b[0;34m\u001b[0m\u001b[0m\n",
      "\u001b[0;32m<ipython-input-45-12b516109474>\u001b[0m in \u001b[0;36mtest_res\u001b[0;34m(studyid, filename, plotit)\u001b[0m\n\u001b[1;32m      5\u001b[0m     \u001b[0mscores\u001b[0m\u001b[0;34m=\u001b[0m\u001b[0mpd\u001b[0m\u001b[0;34m.\u001b[0m\u001b[0mread_csv\u001b[0m\u001b[0;34m(\u001b[0m\u001b[0mfilename\u001b[0m\u001b[0;34m,\u001b[0m \u001b[0msep\u001b[0m\u001b[0;34m=\u001b[0m\u001b[0;34m'\\t'\u001b[0m\u001b[0;34m,\u001b[0m \u001b[0mindex_col\u001b[0m\u001b[0;34m=\u001b[0m\u001b[0;34m'SampleID'\u001b[0m\u001b[0;34m)\u001b[0m\u001b[0;34m\u001b[0m\u001b[0;34m\u001b[0m\u001b[0m\n\u001b[1;32m      6\u001b[0m     \u001b[0mhc\u001b[0m \u001b[0;34m=\u001b[0m \u001b[0mexp\u001b[0m\u001b[0;34m.\u001b[0m\u001b[0mfilter_samples\u001b[0m\u001b[0;34m(\u001b[0m\u001b[0;34m'type'\u001b[0m\u001b[0;34m,\u001b[0m\u001b[0;34m'HC'\u001b[0m\u001b[0;34m)\u001b[0m\u001b[0;34m\u001b[0m\u001b[0;34m\u001b[0m\u001b[0m\n\u001b[0;32m----> 7\u001b[0;31m     \u001b[0mhscore\u001b[0m \u001b[0;34m=\u001b[0m \u001b[0mscores\u001b[0m\u001b[0;34m.\u001b[0m\u001b[0mloc\u001b[0m\u001b[0;34m[\u001b[0m\u001b[0mhc\u001b[0m\u001b[0;34m.\u001b[0m\u001b[0msample_metadata\u001b[0m\u001b[0;34m.\u001b[0m\u001b[0m_sample_id\u001b[0m\u001b[0;34m.\u001b[0m\u001b[0mvalues\u001b[0m\u001b[0;34m]\u001b[0m\u001b[0;34m.\u001b[0m\u001b[0mvalues\u001b[0m\u001b[0;34m\u001b[0m\u001b[0;34m\u001b[0m\u001b[0m\n\u001b[0m\u001b[1;32m      8\u001b[0m     \u001b[0mhscore\u001b[0m \u001b[0;34m=\u001b[0m \u001b[0mhscore\u001b[0m\u001b[0;34m[\u001b[0m\u001b[0mnp\u001b[0m\u001b[0;34m.\u001b[0m\u001b[0misnan\u001b[0m\u001b[0;34m(\u001b[0m\u001b[0mhscore\u001b[0m\u001b[0;34m)\u001b[0m\u001b[0;34m==\u001b[0m\u001b[0;32mFalse\u001b[0m\u001b[0;34m]\u001b[0m\u001b[0;34m\u001b[0m\u001b[0;34m\u001b[0m\u001b[0m\n\u001b[1;32m      9\u001b[0m     \u001b[0mdisease\u001b[0m \u001b[0;34m=\u001b[0m \u001b[0mexp\u001b[0m\u001b[0;34m.\u001b[0m\u001b[0mfilter_samples\u001b[0m\u001b[0;34m(\u001b[0m\u001b[0;34m'type'\u001b[0m\u001b[0;34m,\u001b[0m\u001b[0;34m'disease'\u001b[0m\u001b[0;34m)\u001b[0m\u001b[0;34m\u001b[0m\u001b[0;34m\u001b[0m\u001b[0m\n",
      "\u001b[0;32m/home/amnon/miniconda3/envs/calour/lib/python3.6/site-packages/pandas/core/indexing.py\u001b[0m in \u001b[0;36m__getitem__\u001b[0;34m(self, key)\u001b[0m\n\u001b[1;32m   1765\u001b[0m \u001b[0;34m\u001b[0m\u001b[0m\n\u001b[1;32m   1766\u001b[0m             \u001b[0mmaybe_callable\u001b[0m \u001b[0;34m=\u001b[0m \u001b[0mcom\u001b[0m\u001b[0;34m.\u001b[0m\u001b[0mapply_if_callable\u001b[0m\u001b[0;34m(\u001b[0m\u001b[0mkey\u001b[0m\u001b[0;34m,\u001b[0m \u001b[0mself\u001b[0m\u001b[0;34m.\u001b[0m\u001b[0mobj\u001b[0m\u001b[0;34m)\u001b[0m\u001b[0;34m\u001b[0m\u001b[0;34m\u001b[0m\u001b[0m\n\u001b[0;32m-> 1767\u001b[0;31m             \u001b[0;32mreturn\u001b[0m \u001b[0mself\u001b[0m\u001b[0;34m.\u001b[0m\u001b[0m_getitem_axis\u001b[0m\u001b[0;34m(\u001b[0m\u001b[0mmaybe_callable\u001b[0m\u001b[0;34m,\u001b[0m \u001b[0maxis\u001b[0m\u001b[0;34m=\u001b[0m\u001b[0maxis\u001b[0m\u001b[0;34m)\u001b[0m\u001b[0;34m\u001b[0m\u001b[0;34m\u001b[0m\u001b[0m\n\u001b[0m\u001b[1;32m   1768\u001b[0m \u001b[0;34m\u001b[0m\u001b[0m\n\u001b[1;32m   1769\u001b[0m     \u001b[0;32mdef\u001b[0m \u001b[0m_is_scalar_access\u001b[0m\u001b[0;34m(\u001b[0m\u001b[0mself\u001b[0m\u001b[0;34m,\u001b[0m \u001b[0mkey\u001b[0m\u001b[0;34m:\u001b[0m \u001b[0mTuple\u001b[0m\u001b[0;34m)\u001b[0m\u001b[0;34m:\u001b[0m\u001b[0;34m\u001b[0m\u001b[0;34m\u001b[0m\u001b[0m\n",
      "\u001b[0;32m/home/amnon/miniconda3/envs/calour/lib/python3.6/site-packages/pandas/core/indexing.py\u001b[0m in \u001b[0;36m_getitem_axis\u001b[0;34m(self, key, axis)\u001b[0m\n\u001b[1;32m   1951\u001b[0m                     \u001b[0;32mraise\u001b[0m \u001b[0mValueError\u001b[0m\u001b[0;34m(\u001b[0m\u001b[0;34m\"Cannot index with multidimensional key\"\u001b[0m\u001b[0;34m)\u001b[0m\u001b[0;34m\u001b[0m\u001b[0;34m\u001b[0m\u001b[0m\n\u001b[1;32m   1952\u001b[0m \u001b[0;34m\u001b[0m\u001b[0m\n\u001b[0;32m-> 1953\u001b[0;31m                 \u001b[0;32mreturn\u001b[0m \u001b[0mself\u001b[0m\u001b[0;34m.\u001b[0m\u001b[0m_getitem_iterable\u001b[0m\u001b[0;34m(\u001b[0m\u001b[0mkey\u001b[0m\u001b[0;34m,\u001b[0m \u001b[0maxis\u001b[0m\u001b[0;34m=\u001b[0m\u001b[0maxis\u001b[0m\u001b[0;34m)\u001b[0m\u001b[0;34m\u001b[0m\u001b[0;34m\u001b[0m\u001b[0m\n\u001b[0m\u001b[1;32m   1954\u001b[0m \u001b[0;34m\u001b[0m\u001b[0m\n\u001b[1;32m   1955\u001b[0m             \u001b[0;31m# nested tuple slicing\u001b[0m\u001b[0;34m\u001b[0m\u001b[0;34m\u001b[0m\u001b[0;34m\u001b[0m\u001b[0m\n",
      "\u001b[0;32m/home/amnon/miniconda3/envs/calour/lib/python3.6/site-packages/pandas/core/indexing.py\u001b[0m in \u001b[0;36m_getitem_iterable\u001b[0;34m(self, key, axis)\u001b[0m\n\u001b[1;32m   1592\u001b[0m         \u001b[0;32melse\u001b[0m\u001b[0;34m:\u001b[0m\u001b[0;34m\u001b[0m\u001b[0;34m\u001b[0m\u001b[0m\n\u001b[1;32m   1593\u001b[0m             \u001b[0;31m# A collection of keys\u001b[0m\u001b[0;34m\u001b[0m\u001b[0;34m\u001b[0m\u001b[0;34m\u001b[0m\u001b[0m\n\u001b[0;32m-> 1594\u001b[0;31m             \u001b[0mkeyarr\u001b[0m\u001b[0;34m,\u001b[0m \u001b[0mindexer\u001b[0m \u001b[0;34m=\u001b[0m \u001b[0mself\u001b[0m\u001b[0;34m.\u001b[0m\u001b[0m_get_listlike_indexer\u001b[0m\u001b[0;34m(\u001b[0m\u001b[0mkey\u001b[0m\u001b[0;34m,\u001b[0m \u001b[0maxis\u001b[0m\u001b[0;34m,\u001b[0m \u001b[0mraise_missing\u001b[0m\u001b[0;34m=\u001b[0m\u001b[0;32mFalse\u001b[0m\u001b[0;34m)\u001b[0m\u001b[0;34m\u001b[0m\u001b[0;34m\u001b[0m\u001b[0m\n\u001b[0m\u001b[1;32m   1595\u001b[0m             return self.obj._reindex_with_indexers(\n\u001b[1;32m   1596\u001b[0m                 \u001b[0;34m{\u001b[0m\u001b[0maxis\u001b[0m\u001b[0;34m:\u001b[0m \u001b[0;34m[\u001b[0m\u001b[0mkeyarr\u001b[0m\u001b[0;34m,\u001b[0m \u001b[0mindexer\u001b[0m\u001b[0;34m]\u001b[0m\u001b[0;34m}\u001b[0m\u001b[0;34m,\u001b[0m \u001b[0mcopy\u001b[0m\u001b[0;34m=\u001b[0m\u001b[0;32mTrue\u001b[0m\u001b[0;34m,\u001b[0m \u001b[0mallow_dups\u001b[0m\u001b[0;34m=\u001b[0m\u001b[0;32mTrue\u001b[0m\u001b[0;34m\u001b[0m\u001b[0;34m\u001b[0m\u001b[0m\n",
      "\u001b[0;32m/home/amnon/miniconda3/envs/calour/lib/python3.6/site-packages/pandas/core/indexing.py\u001b[0m in \u001b[0;36m_get_listlike_indexer\u001b[0;34m(self, key, axis, raise_missing)\u001b[0m\n\u001b[1;32m   1550\u001b[0m \u001b[0;34m\u001b[0m\u001b[0m\n\u001b[1;32m   1551\u001b[0m         self._validate_read_indexer(\n\u001b[0;32m-> 1552\u001b[0;31m             \u001b[0mkeyarr\u001b[0m\u001b[0;34m,\u001b[0m \u001b[0mindexer\u001b[0m\u001b[0;34m,\u001b[0m \u001b[0mo\u001b[0m\u001b[0;34m.\u001b[0m\u001b[0m_get_axis_number\u001b[0m\u001b[0;34m(\u001b[0m\u001b[0maxis\u001b[0m\u001b[0;34m)\u001b[0m\u001b[0;34m,\u001b[0m \u001b[0mraise_missing\u001b[0m\u001b[0;34m=\u001b[0m\u001b[0mraise_missing\u001b[0m\u001b[0;34m\u001b[0m\u001b[0;34m\u001b[0m\u001b[0m\n\u001b[0m\u001b[1;32m   1553\u001b[0m         )\n\u001b[1;32m   1554\u001b[0m         \u001b[0;32mreturn\u001b[0m \u001b[0mkeyarr\u001b[0m\u001b[0;34m,\u001b[0m \u001b[0mindexer\u001b[0m\u001b[0;34m\u001b[0m\u001b[0;34m\u001b[0m\u001b[0m\n",
      "\u001b[0;32m/home/amnon/miniconda3/envs/calour/lib/python3.6/site-packages/pandas/core/indexing.py\u001b[0m in \u001b[0;36m_validate_read_indexer\u001b[0;34m(self, key, indexer, axis, raise_missing)\u001b[0m\n\u001b[1;32m   1637\u001b[0m             \u001b[0;32mif\u001b[0m \u001b[0mmissing\u001b[0m \u001b[0;34m==\u001b[0m \u001b[0mlen\u001b[0m\u001b[0;34m(\u001b[0m\u001b[0mindexer\u001b[0m\u001b[0;34m)\u001b[0m\u001b[0;34m:\u001b[0m\u001b[0;34m\u001b[0m\u001b[0;34m\u001b[0m\u001b[0m\n\u001b[1;32m   1638\u001b[0m                 \u001b[0maxis_name\u001b[0m \u001b[0;34m=\u001b[0m \u001b[0mself\u001b[0m\u001b[0;34m.\u001b[0m\u001b[0mobj\u001b[0m\u001b[0;34m.\u001b[0m\u001b[0m_get_axis_name\u001b[0m\u001b[0;34m(\u001b[0m\u001b[0maxis\u001b[0m\u001b[0;34m)\u001b[0m\u001b[0;34m\u001b[0m\u001b[0;34m\u001b[0m\u001b[0m\n\u001b[0;32m-> 1639\u001b[0;31m                 \u001b[0;32mraise\u001b[0m \u001b[0mKeyError\u001b[0m\u001b[0;34m(\u001b[0m\u001b[0;34mf\"None of [{key}] are in the [{axis_name}]\"\u001b[0m\u001b[0;34m)\u001b[0m\u001b[0;34m\u001b[0m\u001b[0;34m\u001b[0m\u001b[0m\n\u001b[0m\u001b[1;32m   1640\u001b[0m \u001b[0;34m\u001b[0m\u001b[0m\n\u001b[1;32m   1641\u001b[0m             \u001b[0;31m# We (temporarily) allow for some missing keys with .loc, except in\u001b[0m\u001b[0;34m\u001b[0m\u001b[0;34m\u001b[0m\u001b[0;34m\u001b[0m\u001b[0m\n",
      "\u001b[0;31mKeyError\u001b[0m: \"None of [Index(['s021', 's002', 's049', 's040', 's044', 's014', 's006', 's024', 's026',\\n       's010', 's020', 's009', 's019', 's007', 's013', 's032', 's023', 's004',\\n       's001', 's015', 's025', 's037', 's012', 's022', 's027'],\\n      dtype='object', name='SampleID')] are in the [index]\""
     ]
    }
   ],
   "source": [
    "db_binary={}\n",
    "db_gevers={}\n",
    "db_freqs={}\n",
    "db_ranks={}\n",
    "db_samplerank={}\n",
    "for cs in studies.iterrows():\n",
    "    cs = cs[1]\n",
    "    print('%s (%s)' % (cs['disease'], cs['sampleid']))\n",
    "    print('tzipi')\n",
    "    csid = cs['sampleid']\n",
    "    mw=test_res(csid,'../dysbiosis_index/%s_dysbiosis_index.txt' % csid,plotit=False)\n",
    "    db_gevers[csid]=mw\n",
    "    print('binary')\n",
    "    mw=test_res(csid,'../dysbiosis_index/binary/%s.txt' % csid,plotit=False)\n",
    "    db_binary[csid]=mw\n",
    "    print('freq')\n",
    "    mw=test_res(csid,'../dysbiosis_index/freqs/%s.txt' % csid,plotit=False)\n",
    "    db_freqs[csid]=mw\n",
    "    print('rank')\n",
    "    mw=test_res(csid,'../dysbiosis_index/ranks/%s.txt' % csid,plotit=False)\n",
    "    db_ranks[csid]=mw\n",
    "    mw=test_res(csid,'../dysbiosis_index/samplerank/%s.txt' % csid,plotit=False)\n",
    "    db_samplerank[csid]=mw\n"
   ]
  },
  {
   "cell_type": "code",
   "execution_count": null,
   "metadata": {},
   "outputs": [],
   "source": [
    "studies['disease'].values"
   ]
  },
  {
   "cell_type": "code",
   "execution_count": null,
   "metadata": {},
   "outputs": [],
   "source": [
    "    disease_colors = {xx:(0,0,0) for xx in studies.disease.values}\n",
    "    disease_colors.update({'HIV': (1.00,0.93,0.35),'Autism': (0.50,0.99,0.52),'Bipolar': (1.00, 0.63, 0.00),\n",
    "         'IBD_Crohn disease': (0.72,0.11,0.11),'IBD_Ulcerative Colitis': (0.043,1,0.97),\n",
    "         'IBD_Inflammtory bowel disease': (0.90,0.59,0.043),\n",
    "         'Diabetes T2': (0.47,0.53,0.80),\n",
    "         'Depression': (0.48,0.12,0.64),\n",
    "         'Obesity': (0.25,0.32,0.71),\n",
    "         'Parkinson': (0.29,0.08,0.55),\n",
    "         'Schizophrenia': (0.88,0.75,0.91),     \n",
    "         'Gastroenteritis': (0.94,0.33,0.31),\n",
    "         'Heart diseases': (0.33,0.43,1.00),\n",
    "         'Irritable bowel syndrom': (0.90,0.45,0.45),\n",
    "         'Alzheimer': (0.83, 0.83, 0.83), 'Anorexia': (0.83, 0.83, 0.83), 'Cancer': (0.83, 0.83, 0.83), 'Autoimmun diseases': (0.83, 0.83, 0.83), 'C.difficile infection': (0.83, 0.83, 0.83), \n",
    "         'Cancer': (0.83, 0.83, 0.83), 'Chronic fatigue syndrome': (0.83, 0.83, 0.83), 'Diabetes T1': (0.83, 0.83, 0.83),  'Gout': (0.83, 0.83, 0.83),\n",
    "         'Hepatitis B': (0.83, 0.83, 0.83), 'Hepatitis C': (0.83, 0.83, 0.83), 'Hypertension': (0.83, 0.83, 0.83), \n",
    "         'Lupus': (0.83, 0.83, 0.83), 'Pancreatitis': (0.83, 0.83, 0.83), 'Psoriasis': (0.83, 0.83, 0.83), 'Rheumatoid arthritis': (0.83, 0.83, 0.83), \n",
    "                \n",
    "         })\n"
   ]
  },
  {
   "cell_type": "code",
   "execution_count": null,
   "metadata": {},
   "outputs": [],
   "source": [
    "def compare_pvals2(db1,db2,name1,name2, minval=1E-5, show_text=True):\n",
    "    f=plt.figure()\n",
    "    plt.yscale('log')\n",
    "    plt.xscale('log')\n",
    "    plt.ylim([minval*0.9,1])\n",
    "    plt.xlim([minval*0.9,1])\n",
    "    plt.plot([minval*0.9,1],[minval*0.9,1],'k')\n",
    "    plt.plot([minval*0.9,1],[0.05,0.05],':k')\n",
    "    plt.plot([0.05,0.05],[minval,1],':k')\n",
    "    for idx,cid in enumerate(db_binary.keys()):\n",
    "        cx = np.max([db1[cid],minval])\n",
    "        cy = np.max([db2[cid],minval])\n",
    "        cdisease=studies[studies.sampleid==cid]['disease'].values[0]\n",
    "        cstudy=studies[studies.sampleid==cid]['study'].values[0]\n",
    "        plt.plot(cx, cy,'.',markersize=30, color=disease_colors[cdisease],label=cdisease)\n",
    "        if show_text:\n",
    "            plt.text(cx, cy*0.8,cdisease+'_'+cstudy)\n",
    "    f.set_size_inches(10,10)\n",
    "    plt.xlabel(name1)\n",
    "    plt.ylabel(name2)\n",
    "#     plt.legend()\n",
    "    return f"
   ]
  },
  {
   "cell_type": "code",
   "execution_count": null,
   "metadata": {},
   "outputs": [],
   "source": [
    "def compare_pvals(db1,db2,name1,name2, minval=1E-5, show_text=True, show_num=False):\n",
    "    f=plt.figure()\n",
    "#     plt.yscale('log')\n",
    "#     plt.xscale('log')\n",
    "    plt.xlim([-np.log10(1),-np.log10(minval*0.9)])\n",
    "    plt.ylim([-np.log10(1),-np.log10(minval*0.9)])\n",
    "    ticks=np.arange(-np.log10(1),-np.log10(minval*0.9))\n",
    "    plt.xticks(ticks, 10**(-ticks))\n",
    "    plt.yticks(ticks, 10**(-ticks))\n",
    "    plt.plot([-np.log10(minval*0.9),-np.log10(1)],[-np.log10(minval*0.9),-np.log10(1)],'k')\n",
    "    plt.plot([-np.log10(minval*0.9),-np.log10(1)],[-np.log10(0.05),-np.log10(0.05)],':k')\n",
    "    plt.plot([-np.log10(0.05),-np.log10(0.05)],[-np.log10(minval),-np.log10(1)],':k')\n",
    "    # draw the rectangles\n",
    "    rect = mpl.patches.Rectangle((0,0),-np.log10(0.05),-np.log10(0.05),linewidth=1,edgecolor='w',facecolor=(1,0.85,0.85))\n",
    "    plt.gca().add_patch(rect)\n",
    "    rect = mpl.patches.Rectangle((0,-np.log10(0.05)),-np.log10(0.05),-np.log10(minval),linewidth=1,edgecolor='w',facecolor=(0.85,1,0.85))\n",
    "    plt.gca().add_patch(rect)\n",
    "    rect = mpl.patches.Rectangle((-np.log10(0.05),0),-np.log10(minval),-np.log10(0.05),linewidth=1,edgecolor='w',facecolor=(0.9,0.9,1))\n",
    "    plt.gca().add_patch(rect)\n",
    "\n",
    "    \n",
    "    for idx,cid in enumerate(db_binary.keys()):\n",
    "        cx = np.max([db1[cid],minval])\n",
    "        cy = np.max([db2[cid],minval])\n",
    "        cdisease=studies[studies.sampleid==cid]['disease'].values[0]\n",
    "        cstudy=studies[studies.sampleid==cid]['study'].values[0]\n",
    "        plt.plot(-np.log10(cx), -np.log10(cy),'.',markersize=30, color=disease_colors[cdisease],label=cdisease)\n",
    "        if cx<=minval and cy<=minval:\n",
    "            print('*** study %s cx %f cy %f' % (cdisease+'_'+cstudy, cx, cy))\n",
    "            pass\n",
    "        if show_text:\n",
    "            plt.text(-np.log10(cx), -np.log10(cy*0.8),cdisease+'_'+cstudy)\n",
    "        if show_num:\n",
    "            cidnum = studies[studies['sampleid']==cid]['dys_number'].values[0]\n",
    "            plt.text(-np.log10(cx), -np.log10(cy)-0.01,str(cidnum), horizontalalignment='center',verticalalignment='center',fontdict={'weight': 'bold', 'color':'black'})\n",
    "            plt.text(-np.log10(cx), -np.log10(cy)+0.01,str(cidnum), horizontalalignment='center',verticalalignment='center',fontdict={'weight': 'bold', 'color':'black'})\n",
    "            plt.text(-np.log10(cx)-0.01, -np.log10(cy),str(cidnum), horizontalalignment='center',verticalalignment='center',fontdict={'weight': 'bold', 'color':'black'})\n",
    "            plt.text(-np.log10(cx)+0.01, -np.log10(cy),str(cidnum), horizontalalignment='center',verticalalignment='center',fontdict={'weight': 'bold', 'color':'black'})\n",
    "            plt.text(-np.log10(cx), -np.log10(cy),str(cidnum), horizontalalignment='center',verticalalignment='center',fontdict={'weight': 'bold', 'color':'white'})\n",
    "            print('ID %d - %s %s' % (cidnum, cdisease, cstudy))\n",
    "    f.set_size_inches(10,10)\n",
    "    plt.xlabel(name1)\n",
    "    plt.ylabel(name2)\n",
    "#     plt.legend()\n",
    "    return f"
   ]
  },
  {
   "cell_type": "code",
   "execution_count": null,
   "metadata": {},
   "outputs": [],
   "source": [
    "f=compare_pvals(db_binary,db_gevers,'binary','gevers')"
   ]
  },
  {
   "cell_type": "code",
   "execution_count": null,
   "metadata": {
    "scrolled": true
   },
   "outputs": [],
   "source": [
    "f=compare_pvals(db_freqs,db_gevers,'freqs','gevers')"
   ]
  },
  {
   "cell_type": "code",
   "execution_count": null,
   "metadata": {},
   "outputs": [],
   "source": [
    "f=compare_pvals(db_samplerank,db_gevers,'samplerank','gevers')"
   ]
  },
  {
   "cell_type": "code",
   "execution_count": null,
   "metadata": {},
   "outputs": [],
   "source": [
    "f=compare_pvals(db_samplerank,db_gevers,'samplerank','gevers',show_text=False, show_num=True)\n",
    "f.savefig('../figures/dysbiosis-with-numbers.pdf')"
   ]
  },
  {
   "cell_type": "code",
   "execution_count": null,
   "metadata": {},
   "outputs": [],
   "source": [
    "f=compare_pvals(db_samplerank,db_gevers,'pval (SampleRank)','pval (Gevers)',show_text=False)\n",
    "f.savefig('../figures/dysbiosis-rank-gevers.pdf')"
   ]
  },
  {
   "cell_type": "code",
   "execution_count": null,
   "metadata": {},
   "outputs": [],
   "source": [
    "f=plt.figure()\n",
    "bins=np.logspace(-5,0,10)\n",
    "plt.hist(db_samplerank.values(),bins,alpha=0.5)\n",
    "plt.hist(db_gevers.values(),bins,alpha=0.5)\n",
    "plt.xscale('log')\n",
    "plt.xlabel('p-value')\n",
    "plt.ylabel('number of cohorts')\n",
    "plt.legend(('Nonspecific','Gevers'))\n",
    "f.savefig('../figures/dysbiosis-index-pvals.pdf')"
   ]
  },
  {
   "cell_type": "code",
   "execution_count": null,
   "metadata": {
    "scrolled": true
   },
   "outputs": [],
   "source": [
    "print(sp.stats.mannwhitneyu(list(db_samplerank.values()),list(db_gevers.values())))\n",
    "print(np.mean(list(db_samplerank.values())))\n",
    "print(np.mean(list(db_gevers.values())))\n",
    "print(np.median(list(db_samplerank.values())))\n",
    "print(np.median(list(db_gevers.values())))"
   ]
  },
  {
   "cell_type": "code",
   "execution_count": null,
   "metadata": {
    "scrolled": true
   },
   "outputs": [],
   "source": [
    "mw=test_res(2,'../dysbiosis/2_dysbiosis_index.txt',)"
   ]
  },
  {
   "cell_type": "code",
   "execution_count": null,
   "metadata": {},
   "outputs": [],
   "source": [
    "mw=test_res(2,'../dysbiosis/freqs/2.txt',)"
   ]
  },
  {
   "cell_type": "code",
   "execution_count": null,
   "metadata": {},
   "outputs": [],
   "source": [
    "mw=test_res(2,'../dysbiosis/samplerank/2.txt',)"
   ]
  },
  {
   "cell_type": "code",
   "execution_count": null,
   "metadata": {},
   "outputs": [],
   "source": [
    "mw=test_res(24,'../dysbiosis/ranks/24.txt',)"
   ]
  },
  {
   "cell_type": "code",
   "execution_count": null,
   "metadata": {},
   "outputs": [],
   "source": [
    "mw=test_res(24,'../dysbiosis/binary/24.txt',)"
   ]
  },
  {
   "cell_type": "code",
   "execution_count": null,
   "metadata": {},
   "outputs": [],
   "source": [
    "studies[studies.sampleid==62]"
   ]
  },
  {
   "cell_type": "code",
   "execution_count": null,
   "metadata": {},
   "outputs": [],
   "source": [
    "aa = ca.read_amplicon('../studies/24/all.biom','../studies/24/up.map.csv',min_reads=1000,normalize=10000, sparse=False)"
   ]
  },
  {
   "cell_type": "code",
   "execution_count": null,
   "metadata": {},
   "outputs": [],
   "source": [
    "aaa=aa.filter_ids(ns._feature_id.values)"
   ]
  },
  {
   "cell_type": "code",
   "execution_count": null,
   "metadata": {},
   "outputs": [],
   "source": [
    "aa1=aaa.filter_samples('type','HC')\n",
    "aa2=aaa.filter_samples('type','disease')"
   ]
  },
  {
   "cell_type": "code",
   "execution_count": null,
   "metadata": {},
   "outputs": [],
   "source": [
    "mean1=np.mean(aa1.data,axis=0)\n",
    "mean2=np.mean(aa2.data,axis=0)\n",
    "std1=np.std(aa1.data,axis=0)\n",
    "std2=np.std(aa2.data,axis=0)\n",
    "mdiff = mean2 - mean1\n",
    "mz = 2 * mdiff / (std1+std2)\n",
    "aaa.feature_metadata['zscore'] = mz\n",
    "aaa.feature_metadata['mean'] = mdiff\n",
    "aaa.feature_metadata['std'] = (std1+std2)/2"
   ]
  },
  {
   "cell_type": "code",
   "execution_count": null,
   "metadata": {},
   "outputs": [],
   "source": [
    "cu.splot(aaa,'type')"
   ]
  },
  {
   "cell_type": "code",
   "execution_count": null,
   "metadata": {},
   "outputs": [],
   "source": [
    "aaa.feature_metadata=aaa.feature_metadata.join(ns.set_index('_feature_id'),lsuffix='l',on='_feature_id',how='inner')"
   ]
  },
  {
   "cell_type": "code",
   "execution_count": null,
   "metadata": {},
   "outputs": [],
   "source": [
    "cu.splot(aaa,'type')"
   ]
  },
  {
   "cell_type": "code",
   "execution_count": null,
   "metadata": {},
   "outputs": [],
   "source": [
    "ns"
   ]
  },
  {
   "cell_type": "code",
   "execution_count": null,
   "metadata": {},
   "outputs": [],
   "source": [
    "dd=aa.diff_abundance('type','HC')"
   ]
  },
  {
   "cell_type": "code",
   "execution_count": null,
   "metadata": {},
   "outputs": [],
   "source": [
    "dd"
   ]
  },
  {
   "cell_type": "code",
   "execution_count": null,
   "metadata": {},
   "outputs": [],
   "source": [
    "cu.splot(dd,'type')"
   ]
  },
  {
   "cell_type": "code",
   "execution_count": null,
   "metadata": {},
   "outputs": [],
   "source": [
    "ss='TACGGAGGATCCGAGCGTTATCCGGATTTATTGGGTTTAAAGGGAGCGTAGGCGGACGCTTAAGTCAGTTGTGAAAGTTTGCGGCTCAACCGTAAAATTGCAGTTGATACTGGGTGTCTTGAGTACAGTAGAGGCAGGCGGAATTCGTGG'\n",
    "len(ss)"
   ]
  },
  {
   "cell_type": "code",
   "execution_count": null,
   "metadata": {},
   "outputs": [],
   "source": [
    "aa.diff_abundance()"
   ]
  },
  {
   "cell_type": "code",
   "execution_count": null,
   "metadata": {},
   "outputs": [],
   "source": []
  }
 ],
 "metadata": {
  "interpreter": {
   "hash": "31f2aee4e71d21fbe5cf8b01ff0e069b9275f58929596ceb00d14d90e3e16cd6"
  },
  "kernelspec": {
   "display_name": "Python 3",
   "language": "python",
   "name": "python3"
  },
  "language_info": {
   "codemirror_mode": {
    "name": "ipython",
    "version": 3
   },
   "file_extension": ".py",
   "mimetype": "text/x-python",
   "name": "python",
   "nbconvert_exporter": "python",
   "pygments_lexer": "ipython3",
   "version": "3.6.9"
  }
 },
 "nbformat": 4,
 "nbformat_minor": 4
}
